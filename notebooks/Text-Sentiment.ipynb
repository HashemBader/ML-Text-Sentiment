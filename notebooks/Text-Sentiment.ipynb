{
 "cells": [
  {
   "cell_type": "markdown",
   "id": "3d67cdaa",
   "metadata": {},
   "source": [
    "# IMDB Movie Review Sentiment Analysis\n",
    "\n",
    "## 1. Problem and Motivation\n",
    "\n",
    "Sentiment analysis of movie reviews helps movie studios, streaming platforms, and researchers understand audience sentiment at scale. This enables data-driven decision-making for marketing, content recommendations, and product improvements. Automated text analysis is crucial for processing thousands of reviews, which would be infeasible to analyze manually."
   ]
  },
  {
   "cell_type": "markdown",
   "id": "d4b7f856",
   "metadata": {},
   "source": [
    "## 2. Dataset Description\n",
    "\n",
    "- **Name:** IMDB Dataset of 50K Movie Reviews\n",
    "- **Source:** [Kaggle: lakshmi25npathi/imdb-dataset-of-50k-movie-reviews](https://www.kaggle.com/datasets/lakshmi25npathi/imdb-dataset-of-50k-movie-reviews)\n",
    "- **Rows:** 50,000\n",
    "- **Columns:**\n",
    "    - `review`: The text of the review\n",
    "    - `sentiment`: Label (positive/negative)\n",
    "- **Data Types:**\n",
    "    - `review`: string (text)\n",
    "    - `sentiment`: categorical\n",
    "- **Missingness:** No missing values in either column\n",
    "- **Sensitive Attributes:** Reviews may contain personal opinions and references to individuals\n",
    "\n",
    "### Loading the Dataset\n",
    "\n",
    "We'll use the `kagglehub` library as specified:"
   ]
  },
  {
   "cell_type": "code",
   "execution_count": 2,
   "id": "cf61fd83-211f-4b3e-ab26-7369f481f8a1",
   "metadata": {},
   "outputs": [],
   "source": [
    " \n",
    "# import kagglehub\n",
    "\n",
    "#  # Download the latest version \n",
    "# path = kagglehub.dataset_download(\"lakshmi25npathi/imdb-dataset-of-50k-movie-reviews\")\n",
    "\n",
    "# print(\"Path to dataset files:\", path)\n"
   ]
  },
  {
   "cell_type": "code",
   "execution_count": 3,
   "id": "6d0c3401",
   "metadata": {},
   "outputs": [],
   "source": [
    "path = 'C:\\\\Users\\\\User\\\\.cache\\\\kagglehub\\\\datasets\\\\lakshmi25npathi\\\\imdb-dataset-of-50k-movie-reviews\\\\versions\\\\1'"
   ]
  },
  {
   "cell_type": "code",
   "execution_count": 4,
   "id": "8cf8d034",
   "metadata": {},
   "outputs": [
    {
     "data": {
      "text/html": [
       "<div>\n",
       "<style scoped>\n",
       "    .dataframe tbody tr th:only-of-type {\n",
       "        vertical-align: middle;\n",
       "    }\n",
       "\n",
       "    .dataframe tbody tr th {\n",
       "        vertical-align: top;\n",
       "    }\n",
       "\n",
       "    .dataframe thead th {\n",
       "        text-align: right;\n",
       "    }\n",
       "</style>\n",
       "<table border=\"1\" class=\"dataframe\">\n",
       "  <thead>\n",
       "    <tr style=\"text-align: right;\">\n",
       "      <th></th>\n",
       "      <th>review</th>\n",
       "      <th>sentiment</th>\n",
       "    </tr>\n",
       "  </thead>\n",
       "  <tbody>\n",
       "    <tr>\n",
       "      <th>0</th>\n",
       "      <td>One of the other reviewers has mentioned that ...</td>\n",
       "      <td>positive</td>\n",
       "    </tr>\n",
       "    <tr>\n",
       "      <th>1</th>\n",
       "      <td>A wonderful little production. &lt;br /&gt;&lt;br /&gt;The...</td>\n",
       "      <td>positive</td>\n",
       "    </tr>\n",
       "    <tr>\n",
       "      <th>2</th>\n",
       "      <td>I thought this was a wonderful way to spend ti...</td>\n",
       "      <td>positive</td>\n",
       "    </tr>\n",
       "    <tr>\n",
       "      <th>3</th>\n",
       "      <td>Basically there's a family where a little boy ...</td>\n",
       "      <td>negative</td>\n",
       "    </tr>\n",
       "    <tr>\n",
       "      <th>4</th>\n",
       "      <td>Petter Mattei's \"Love in the Time of Money\" is...</td>\n",
       "      <td>positive</td>\n",
       "    </tr>\n",
       "  </tbody>\n",
       "</table>\n",
       "</div>"
      ],
      "text/plain": [
       "                                              review sentiment\n",
       "0  One of the other reviewers has mentioned that ...  positive\n",
       "1  A wonderful little production. <br /><br />The...  positive\n",
       "2  I thought this was a wonderful way to spend ti...  positive\n",
       "3  Basically there's a family where a little boy ...  negative\n",
       "4  Petter Mattei's \"Love in the Time of Money\" is...  positive"
      ]
     },
     "execution_count": 4,
     "metadata": {},
     "output_type": "execute_result"
    }
   ],
   "source": [
    "import pandas as pd\n",
    "\n",
    "# Assuming it's a CSV file, you can load it like this:\n",
    "df = pd.read_csv(path + \"/IMDB Dataset.csv\")\n",
    "df.head()\n"
   ]
  },
  {
   "cell_type": "code",
   "execution_count": 5,
   "id": "5e62c4f7",
   "metadata": {},
   "outputs": [
    {
     "data": {
      "text/html": [
       "<div>\n",
       "<style scoped>\n",
       "    .dataframe tbody tr th:only-of-type {\n",
       "        vertical-align: middle;\n",
       "    }\n",
       "\n",
       "    .dataframe tbody tr th {\n",
       "        vertical-align: top;\n",
       "    }\n",
       "\n",
       "    .dataframe thead th {\n",
       "        text-align: right;\n",
       "    }\n",
       "</style>\n",
       "<table border=\"1\" class=\"dataframe\">\n",
       "  <thead>\n",
       "    <tr style=\"text-align: right;\">\n",
       "      <th></th>\n",
       "      <th>review</th>\n",
       "      <th>sentiment</th>\n",
       "    </tr>\n",
       "  </thead>\n",
       "  <tbody>\n",
       "    <tr>\n",
       "      <th>count</th>\n",
       "      <td>50000</td>\n",
       "      <td>50000</td>\n",
       "    </tr>\n",
       "    <tr>\n",
       "      <th>unique</th>\n",
       "      <td>49582</td>\n",
       "      <td>2</td>\n",
       "    </tr>\n",
       "    <tr>\n",
       "      <th>top</th>\n",
       "      <td>Loved today's show!!! It was a variety and not...</td>\n",
       "      <td>positive</td>\n",
       "    </tr>\n",
       "    <tr>\n",
       "      <th>freq</th>\n",
       "      <td>5</td>\n",
       "      <td>25000</td>\n",
       "    </tr>\n",
       "  </tbody>\n",
       "</table>\n",
       "</div>"
      ],
      "text/plain": [
       "                                                   review sentiment\n",
       "count                                               50000     50000\n",
       "unique                                              49582         2\n",
       "top     Loved today's show!!! It was a variety and not...  positive\n",
       "freq                                                    5     25000"
      ]
     },
     "execution_count": 5,
     "metadata": {},
     "output_type": "execute_result"
    }
   ],
   "source": [
    "df.describe()"
   ]
  },
  {
   "cell_type": "code",
   "execution_count": 6,
   "id": "32f08dc0",
   "metadata": {},
   "outputs": [
    {
     "name": "stdout",
     "output_type": "stream",
     "text": [
      "(50000, 2)\n"
     ]
    },
    {
     "data": {
      "text/html": [
       "<div>\n",
       "<style scoped>\n",
       "    .dataframe tbody tr th:only-of-type {\n",
       "        vertical-align: middle;\n",
       "    }\n",
       "\n",
       "    .dataframe tbody tr th {\n",
       "        vertical-align: top;\n",
       "    }\n",
       "\n",
       "    .dataframe thead th {\n",
       "        text-align: right;\n",
       "    }\n",
       "</style>\n",
       "<table border=\"1\" class=\"dataframe\">\n",
       "  <thead>\n",
       "    <tr style=\"text-align: right;\">\n",
       "      <th></th>\n",
       "      <th>review</th>\n",
       "      <th>sentiment</th>\n",
       "    </tr>\n",
       "  </thead>\n",
       "  <tbody>\n",
       "    <tr>\n",
       "      <th>0</th>\n",
       "      <td>One of the other reviewers has mentioned that ...</td>\n",
       "      <td>positive</td>\n",
       "    </tr>\n",
       "    <tr>\n",
       "      <th>1</th>\n",
       "      <td>A wonderful little production. &lt;br /&gt;&lt;br /&gt;The...</td>\n",
       "      <td>positive</td>\n",
       "    </tr>\n",
       "    <tr>\n",
       "      <th>2</th>\n",
       "      <td>I thought this was a wonderful way to spend ti...</td>\n",
       "      <td>positive</td>\n",
       "    </tr>\n",
       "    <tr>\n",
       "      <th>3</th>\n",
       "      <td>Basically there's a family where a little boy ...</td>\n",
       "      <td>negative</td>\n",
       "    </tr>\n",
       "    <tr>\n",
       "      <th>4</th>\n",
       "      <td>Petter Mattei's \"Love in the Time of Money\" is...</td>\n",
       "      <td>positive</td>\n",
       "    </tr>\n",
       "    <tr>\n",
       "      <th>...</th>\n",
       "      <td>...</td>\n",
       "      <td>...</td>\n",
       "    </tr>\n",
       "    <tr>\n",
       "      <th>49995</th>\n",
       "      <td>I thought this movie did a down right good job...</td>\n",
       "      <td>positive</td>\n",
       "    </tr>\n",
       "    <tr>\n",
       "      <th>49996</th>\n",
       "      <td>Bad plot, bad dialogue, bad acting, idiotic di...</td>\n",
       "      <td>negative</td>\n",
       "    </tr>\n",
       "    <tr>\n",
       "      <th>49997</th>\n",
       "      <td>I am a Catholic taught in parochial elementary...</td>\n",
       "      <td>negative</td>\n",
       "    </tr>\n",
       "    <tr>\n",
       "      <th>49998</th>\n",
       "      <td>I'm going to have to disagree with the previou...</td>\n",
       "      <td>negative</td>\n",
       "    </tr>\n",
       "    <tr>\n",
       "      <th>49999</th>\n",
       "      <td>No one expects the Star Trek movies to be high...</td>\n",
       "      <td>negative</td>\n",
       "    </tr>\n",
       "  </tbody>\n",
       "</table>\n",
       "<p>50000 rows × 2 columns</p>\n",
       "</div>"
      ],
      "text/plain": [
       "                                                  review sentiment\n",
       "0      One of the other reviewers has mentioned that ...  positive\n",
       "1      A wonderful little production. <br /><br />The...  positive\n",
       "2      I thought this was a wonderful way to spend ti...  positive\n",
       "3      Basically there's a family where a little boy ...  negative\n",
       "4      Petter Mattei's \"Love in the Time of Money\" is...  positive\n",
       "...                                                  ...       ...\n",
       "49995  I thought this movie did a down right good job...  positive\n",
       "49996  Bad plot, bad dialogue, bad acting, idiotic di...  negative\n",
       "49997  I am a Catholic taught in parochial elementary...  negative\n",
       "49998  I'm going to have to disagree with the previou...  negative\n",
       "49999  No one expects the Star Trek movies to be high...  negative\n",
       "\n",
       "[50000 rows x 2 columns]"
      ]
     },
     "execution_count": 6,
     "metadata": {},
     "output_type": "execute_result"
    }
   ],
   "source": [
    "# Seeing the whole dataset and number of rows and columns\n",
    "print(df.shape)\n",
    "df"
   ]
  },
  {
   "cell_type": "code",
   "execution_count": 7,
   "id": "ba8d42b5",
   "metadata": {},
   "outputs": [
    {
     "name": "stdout",
     "output_type": "stream",
     "text": [
      "<class 'pandas.core.frame.DataFrame'>\n",
      "RangeIndex: 50000 entries, 0 to 49999\n",
      "Data columns (total 2 columns):\n",
      " #   Column     Non-Null Count  Dtype \n",
      "---  ------     --------------  ----- \n",
      " 0   review     50000 non-null  object\n",
      " 1   sentiment  50000 non-null  object\n",
      "dtypes: object(2)\n",
      "memory usage: 781.4+ KB\n",
      "Missing values in each column:\n"
     ]
    },
    {
     "data": {
      "text/plain": [
       "review       0\n",
       "sentiment    0\n",
       "dtype: int64"
      ]
     },
     "execution_count": 7,
     "metadata": {},
     "output_type": "execute_result"
    }
   ],
   "source": [
    "# 📋 Summary of the DataFrame — shows column names, data types, non-null values, and memory usage\n",
    "df.info()\n",
    "# 🧮 Calculate the total number of missing (NaN) values for each column in the DataFrame\n",
    "missing_counts = df.isnull().sum()\n",
    "\n",
    "# 🖨️ Print a summary showing how many missing values exist in each column\n",
    "print(\"Missing values in each column:\")\n",
    "missing_counts"
   ]
  },
  {
   "cell_type": "code",
   "execution_count": 8,
   "id": "aafbf793",
   "metadata": {},
   "outputs": [
    {
     "data": {
      "text/plain": [
       "sentiment\n",
       "positive    25000\n",
       "negative    25000\n",
       "Name: count, dtype: int64"
      ]
     },
     "execution_count": 8,
     "metadata": {},
     "output_type": "execute_result"
    }
   ],
   "source": [
    "# examine the class distribution\n",
    "df.sentiment.value_counts()"
   ]
  },
  {
   "cell_type": "markdown",
   "id": "9efd1c47",
   "metadata": {},
   "source": [
    "## EDA"
   ]
  },
  {
   "cell_type": "markdown",
   "id": "4f51030c",
   "metadata": {},
   "source": [
    "### searching for duplicates"
   ]
  },
  {
   "cell_type": "code",
   "execution_count": 9,
   "id": "c675c91b",
   "metadata": {},
   "outputs": [
    {
     "name": "stdout",
     "output_type": "stream",
     "text": [
      "Number of duplicated rows: 418\n"
     ]
    }
   ],
   "source": [
    "duplicated = df.duplicated()\n",
    "\n",
    "\n",
    "print(f\"Number of duplicated rows: {duplicated.sum()}\")\n",
    "\n",
    "# Remove duplicates\n",
    "#df = df.drop_duplicates()"
   ]
  },
  {
   "cell_type": "markdown",
   "id": "8710e4b3",
   "metadata": {},
   "source": [
    "### removing the duplicates"
   ]
  },
  {
   "cell_type": "code",
   "execution_count": 10,
   "id": "5e13094f",
   "metadata": {},
   "outputs": [
    {
     "name": "stdout",
     "output_type": "stream",
     "text": [
      "Number of duplicated rows: 0\n"
     ]
    }
   ],
   "source": [
    "# Remove duplicates\n",
    "df = df.drop_duplicates()\n",
    "\n",
    "# Check again for duplicates\n",
    "duplicated = df.duplicated()\n",
    "\n",
    "print(f\"Number of duplicated rows: {duplicated.sum()}\")"
   ]
  },
  {
   "cell_type": "markdown",
   "id": "b64ad646",
   "metadata": {},
   "source": [
    "### Plot 1 – Target distribution plot for classification (bar plot of class counts)."
   ]
  },
  {
   "cell_type": "code",
   "execution_count": 11,
   "id": "4624b891",
   "metadata": {},
   "outputs": [
    {
     "data": {
      "image/png": "[encoded data removed]",
      "text/plain": [
       "<Figure size 640x480 with 1 Axes>"
      ]
     },
     "metadata": {},
     "output_type": "display_data"
    }
   ],
   "source": [
    "#!pip install matplotlib\n",
    "#!pip install seaborn\n",
    "\n",
    "import matplotlib.pyplot as plt\n",
    "import seaborn as sns\n",
    "\n",
    "\n",
    "x = df.review\n",
    "y = df.sentiment\n",
    "target_plot = y.value_counts().plot(kind='bar', title='Target Distribution', xlabel='Classes', ylabel='Number of samples', color=['green', 'red'])\n",
    "target_plot.set_xticklabels(target_plot.get_xticklabels(), rotation=0)\n",
    "plt.show()\n"
   ]
  },
  {
   "cell_type": "markdown",
   "id": "4c02f6ea",
   "metadata": {},
   "source": [
    "###  Plot 2 – Correlation heatmap or boxplot summary for key numeric features.\n"
   ]
  },
  {
   "cell_type": "code",
   "execution_count": null,
   "id": "7e74a867",
   "metadata": {},
   "outputs": [],
   "source": []
  },
  {
   "cell_type": "markdown",
   "id": "fb5c60c1",
   "metadata": {},
   "source": [
    "## Classification ML"
   ]
  },
  {
   "cell_type": "markdown",
   "id": "2eda6595",
   "metadata": {},
   "source": [
    "### Train-Validation-Test Split"
   ]
  },
  {
   "cell_type": "code",
   "execution_count": 12,
   "id": "6e3f01c3",
   "metadata": {},
   "outputs": [
    {
     "name": "stdout",
     "output_type": "stream",
     "text": [
      "Training set size: 29748 samples (60.0%)\n",
      "Validation set size: 9917 samples (20.0%)\n",
      "Test set size: 9917 samples (20.0%)\n",
      "\n",
      "Class distribution:\n",
      "Train - Positive: 14930, Negative: 14818\n",
      "Validation - Positive: 4977, Negative: 4940\n",
      "Test - Positive: 4977, Negative: 4940\n"
     ]
    }
   ],
   "source": [
    "#!pip install scikit-learn\n",
    "\n",
    "# train validation test split (60% train, 20% validation, 20% test)\n",
    "from sklearn.model_selection import train_test_split\n",
    "\n",
    "# First split: separate out test set (20%)\n",
    "x_temp, x_test, y_temp, y_test = train_test_split(x, y, test_size=0.2, random_state=42, stratify=y)\n",
    "\n",
    "# Second split: divide remaining 80% into train (60% of total) and validation (20% of total)\n",
    "# 60/80 = 0.75, so we use 0.75 for the train portion of the remaining data\n",
    "x_train, x_val, y_train, y_val = train_test_split(x_temp, y_temp, test_size=0.25, random_state=42, stratify=y_temp)\n",
    "\n",
    "print(f\"Training set size: {x_train.shape[0]} samples ({x_train.shape[0]/len(x):.1%})\")\n",
    "print(f\"Validation set size: {x_val.shape[0]} samples ({x_val.shape[0]/len(x):.1%})\")\n",
    "print(f\"Test set size: {x_test.shape[0]} samples ({x_test.shape[0]/len(x):.1%})\")\n",
    "\n",
    "# Verify class distribution is maintained\n",
    "print(f\"\\nClass distribution:\")\n",
    "print(f\"Train - Positive: {(y_train=='positive').sum()}, Negative: {(y_train=='negative').sum()}\")\n",
    "print(f\"Validation - Positive: {(y_val=='positive').sum()}, Negative: {(y_val=='negative').sum()}\")\n",
    "print(f\"Test - Positive: {(y_test=='positive').sum()}, Negative: {(y_test=='negative').sum()}\")"
   ]
  },
  {
   "cell_type": "markdown",
   "id": "01451742",
   "metadata": {},
   "source": [
    "### ML Prediction"
   ]
  },
  {
   "cell_type": "code",
   "execution_count": null,
   "id": "5d80d149",
   "metadata": {},
   "outputs": [
    {
     "name": "stdout",
     "output_type": "stream",
     "text": [
      "(ON THE TEST SET) Accuracy of the Logistic Regression predictor: 0.895\n",
      "Validation Accuracy: 0.8918\n",
      "Test Accuracy: 0.8954\n"
     ]
    }
   ],
   "source": [
    "# train the model using logistic regression\n",
    "from sklearn.feature_extraction.text import TfidfVectorizer\n",
    "from sklearn.linear_model import LogisticRegression\n",
    "from sklearn.pipeline import Pipeline\n",
    "\n",
    "# Create a pipeline that combines the vectorizer and classifier\n",
    "pipeline = Pipeline([\n",
    "    ('tfidf', TfidfVectorizer()),\n",
    "    ('clf', LogisticRegression())\n",
    "])\n",
    "\n",
    "# Train the model\n",
    "pipeline.fit(x_train, y_train)\n",
    "\n",
    "\n",
    "# Validate the model\n",
    "val_accuracy = pipeline.score(x_val, y_val)\n",
    "print(f\"Validation Accuracy: {val_accuracy:.4f}\")\n",
    "\n",
    "# Test the model\n",
    "test_accuracy = pipeline.score(x_test, y_test)\n",
    "print(f\"Test Accuracy: {test_accuracy:.4f}\")\n",
    "\n",
    "from sklearn import metrics\n",
    "\n",
    "# --- Evaluate model accuracy ---\n",
    "Y_pred_test = pipeline.predict(x_test)\n",
    "accuracy = metrics.accuracy_score(y_test, Y_pred_test)\n",
    "print(f\"(ON THE TEST SET) Accuracy of the Logistic Regression predictor: {accuracy:.3f}\")\n"
   ]
  },
  {
   "cell_type": "markdown",
   "id": "d5f5950d",
   "metadata": {},
   "source": [
    "### Learning Curve"
   ]
  },
  {
   "cell_type": "code",
   "execution_count": 24,
   "id": "04c08d53",
   "metadata": {},
   "outputs": [
    {
     "data": {
      "image/png": "[encoded data removed]",
      "text/plain": [
       "<Figure size 640x480 with 1 Axes>"
      ]
     },
     "metadata": {},
     "output_type": "display_data"
    }
   ],
   "source": [
    "from sklearn.model_selection import learning_curve\n",
    "import matplotlib.pyplot as plt\n",
    "import numpy as np\n",
    "\n",
    "train_sizes, train_scores, val_scores = learning_curve(\n",
    "    pipeline, x_train, y_train,\n",
    "    cv=5,\n",
    "    train_sizes=np.linspace(0.1, 1.0, 8),\n",
    "    scoring='accuracy',\n",
    "    shuffle=True,\n",
    "    random_state=42,\n",
    "    n_jobs=-1\n",
    ")\n",
    "\n",
    "train_mean = np.mean(train_scores, axis=1)\n",
    "val_mean = np.mean(val_scores, axis=1)\n",
    "\n",
    "plt.plot(train_sizes, train_mean, 'o-', color='blue', label='Training Accuracy')\n",
    "plt.plot(train_sizes, val_mean, 'o-', color='green', label='Validation Accuracy')\n",
    "plt.xlabel('Training Set Size')\n",
    "plt.ylabel('Accuracy')\n",
    "plt.title('Learning Curve for Logistic Regression Model')\n",
    "plt.legend()\n",
    "plt.grid(True)\n",
    "plt.tight_layout()\n",
    "plt.show()\n"
   ]
  }
 ],
 "metadata": {
  "kernelspec": {
   "display_name": "Python 3",
   "language": "python",
   "name": "python3"
  },
  "language_info": {
   "codemirror_mode": {
    "name": "ipython",
    "version": 3
   },
   "file_extension": ".py",
   "mimetype": "text/x-python",
   "name": "python",
   "nbconvert_exporter": "python",
   "pygments_lexer": "ipython3",
   "version": "3.10.11"
  }
 },
 "nbformat": 4,
 "nbformat_minor": 5
}
